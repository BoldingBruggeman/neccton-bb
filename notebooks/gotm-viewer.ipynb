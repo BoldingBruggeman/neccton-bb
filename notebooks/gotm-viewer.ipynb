{
 "cells": [
  {
   "cell_type": "code",
   "execution_count": null,
   "metadata": {},
   "outputs": [],
   "source": [
    "import os.path\n",
    "import datetime\n",
    "import warnings\n",
    "warnings.filterwarnings('ignore')\n",
    "\n",
    "\n",
    "import ipywidgets\n",
    "\n",
    "# Note: \"%matplotlib widget\" below enables interactive plots but requires https://github.com/matplotlib/ipympl\n",
    "# Alternatively you could use \"%matplotlib notebook\" (interactive but deprecated) or \"%matplotlib inline\" (static plots)\n",
    "%matplotlib widget\n",
    "import matplotlib.pyplot\n",
    "\n",
    "import numpy as np\n",
    "import netCDF4\n",
    "from matplotlib import pyplot\n",
    "from matplotlib import dates\n",
    "\n",
    "setup_dir = \"../../eat/tests/nns_annual_igotm\""
   ]
  },
  {
   "cell_type": "code",
   "execution_count": null,
   "metadata": {},
   "outputs": [],
   "source": [
    "nc = netCDF4.Dataset(os.path.join(setup_dir, 'result.nc'))\n",
    "\n",
    "z = nc['z'][:, :, 0, 0]\n",
    "nctime = nc['time']\n",
    "time = netCDF4.num2date(nctime[:], units=nctime.units)\n",
    "time = dates.date2num(time)\n",
    "time = np.broadcast_to(time[:, np.newaxis], z.shape)\n",
    "\n",
    "matplotlib.pyplot.ioff()\n",
    "fig, ax = matplotlib.pyplot.subplots()\n",
    "pc = ax.pcolormesh(time, z, nc['temp'][:, :, 0, 0])\n",
    "cb = fig.colorbar(pc, ax=ax)\n",
    "ax.set_xlabel('time (d)')\n",
    "ax.set_ylabel('height (m)')\n",
    "\n",
    "def update(v):\n",
    "    pc.set_array(v[:, :, 0, 0].ravel())\n",
    "    cb.set_label('%s (%s)' % (v.long_name, v.units))\n",
    "    ax.set_title(v.long_name)\n",
    "    # ax.relim()\n",
    "    # ax.autoscale()\n",
    "    fig.canvas.draw()\n",
    "available = [(v.long_name, v) for v in nc.variables.values() if v.dimensions == ('time', 'z', 'lat', 'lon')]\n",
    "dropdown = ipywidgets.interactive(update, v=available)\n",
    "display(dropdown)\n",
    "fig"
   ]
  },
  {
   "cell_type": "code",
   "execution_count": null,
   "metadata": {},
   "outputs": [],
   "source": []
  }
 ],
 "metadata": {
  "kernelspec": {
   "display_name": "base",
   "language": "python",
   "name": "python3"
  },
  "language_info": {
   "codemirror_mode": {
    "name": "ipython",
    "version": 3
   },
   "file_extension": ".py",
   "mimetype": "text/x-python",
   "name": "python",
   "nbconvert_exporter": "python",
   "pygments_lexer": "ipython3",
   "version": "3.8.15"
  },
  "orig_nbformat": 4,
  "vscode": {
   "interpreter": {
    "hash": "e4cce46d6be9934fbd27f9ca0432556941ea5bdf741d4f4d64c6cd7f8dfa8fba"
   }
  }
 },
 "nbformat": 4,
 "nbformat_minor": 2
}
