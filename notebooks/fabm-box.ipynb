{
 "cells": [
  {
   "attachments": {},
   "cell_type": "markdown",
   "metadata": {},
   "source": [
    "# FABM box model\n",
    "\n",
    "This notebook runs one of the CMEMS biogeochemical models\n",
    "in a well-mixed box (0D), under constant environmental forcing"
   ]
  },
  {
   "cell_type": "code",
   "execution_count": null,
   "metadata": {},
   "outputs": [],
   "source": [
    "# Python standard library\n",
    "import os\n",
    "import glob\n",
    "\n",
    "# 3rd party packages\n",
    "import ipywidgets\n",
    "import numpy as np\n",
    "import scipy.integrate\n",
    "\n",
    "# Note: \"%matplotlib widget\" below enables interactive plots but requires https://github.com/matplotlib/ipympl\n",
    "# Alternatively you could use \"%matplotlib notebook\" (interactive but deprecated) or \"%matplotlib inline\" (static plots)\n",
    "%matplotlib widget\n",
    "import matplotlib.pyplot\n",
    "\n",
    "# FABM itself\n",
    "import pyfabm"
   ]
  },
  {
   "cell_type": "code",
   "execution_count": null,
   "metadata": {},
   "outputs": [],
   "source": [
    "# Show available test cases\n",
    "testcases = [(os.path.basename(path)[:-5], path) for path in glob.glob('../testcases/*.yaml')]\n",
    "testcases.sort(key=lambda x: x[0])\n",
    "testcase_dropdown = ipywidgets.RadioButtons(options=testcases, description='Test case:')\n",
    "display(testcase_dropdown)"
   ]
  },
  {
   "cell_type": "code",
   "execution_count": null,
   "metadata": {
    "tags": []
   },
   "outputs": [],
   "source": [
    "# Initialize the test case (this reads fabm.yaml)\n",
    "model = pyfabm.Model(testcase_dropdown.value)\n",
    "\n",
    "# Present configurable environmental conditions\n",
    "bottom_depth = 20.0\n",
    "default_environment = dict(\n",
    "    temperature = 15.0,\n",
    "    practical_salinity = 35.0,\n",
    "    surface_downwelling_shortwave_flux = 150.0,\n",
    "    downwelling_shortwave_flux = 30.0,\n",
    "    surface_downwelling_photosynthetic_radiative_flux = 50.0,\n",
    "    downwelling_photosynthetic_radiative_flux = 10.0,\n",
    "    density = 1020.0,\n",
    "    mole_fraction_of_carbon_dioxide_in_air = 414.2,\n",
    "    wind_speed = 2.0,\n",
    "    surface_air_pressure = 101325,\n",
    "    surface_temperature = 15.0,\n",
    "    vertical_tracer_diffusivity = 1e-6,\n",
    "    bottom_depth = bottom_depth,\n",
    "    depth = 0.5 * bottom_depth,\n",
    "    pressure = 0.5 * bottom_depth,\n",
    "    cell_thickness = bottom_depth\n",
    ")\n",
    "model.cell_thickness = bottom_depth  # cell thickness in m, used by getRates to scale surface and bottom fluxes\n",
    "labels, inputs, units, dependencies = [], [], [], []\n",
    "daynr = None\n",
    "for variable in model.dependencies:\n",
    "    if variable.name == 'number_of_days_since_start_of_the_year':\n",
    "        # Keep reference to day-of-the-year, so we can update it during the simulation\n",
    "        daynr = variable\n",
    "        daynr.value = 0.0\n",
    "    else:\n",
    "        # Present this environmental dependency as a configurable parameter,\n",
    "        # to be kept constant during the simulation\n",
    "        labels.append(ipywidgets.Label('%s:' % variable.long_name))\n",
    "        inputs.append(ipywidgets.FloatText(value=default_environment.get(variable.name, 0.), layout={'width': '7em'}))\n",
    "        units.append(ipywidgets.Label('%s' % variable.units))\n",
    "        dependencies.append(variable)\n",
    "display(ipywidgets.HBox((\n",
    "    ipywidgets.VBox([ipywidgets.HTML('<b>Variable</b>')] + labels),\n",
    "    ipywidgets.VBox([ipywidgets.HTML('<b>Value</b>')] + inputs),\n",
    "    ipywidgets.VBox([ipywidgets.HTML('<b>Units</b>')] + units)\n",
    ")))\n",
    "\n",
    "results = []   # this list will contain results of repeated simulations"
   ]
  },
  {
   "cell_type": "code",
   "execution_count": null,
   "metadata": {},
   "outputs": [],
   "source": [
    "# Transfer environmental conditions to model\n",
    "for variable, widget in zip(dependencies, inputs):\n",
    "    variable.value = widget.value\n",
    "\n",
    "# Initialize model (this also verifies that all dependencies have been fulfilled)\n",
    "assert model.start(), 'Model failed to start: %s' % pyfabm.getError()\n",
    "\n",
    "# Backup initial state (to restore for repeated simulation)\n",
    "initial_state = np.array(model.state)\n",
    "\n",
    "# Time derivative\n",
    "def dy(t, y):\n",
    "    # Update the environment to the current time\n",
    "    if daynr is not None:\n",
    "        daynr.value = t\n",
    "\n",
    "    # Obtain sinks and sources\n",
    "    # (FABM rates are per second and converted here to per day)\n",
    "    model.state[:] = y\n",
    "    return model.getRates(t) * 86400\n",
    "\n",
    "# Time-integrate over 200 days\n",
    "times = np.arange(0, 200.0, 1)\n",
    "result = scipy.integrate.solve_ivp(dy, [0., times[-1]], model.state, t_eval=times, max_step=0.1)\n",
    "model.state[:] = initial_state\n",
    "results.append(result)\n",
    "\n",
    "# Plot results\n",
    "matplotlib.pyplot.ioff()\n",
    "fig, ax = matplotlib.pyplot.subplots()\n",
    "lines = []\n",
    "for result in results:\n",
    "    line, = ax.plot(result.t, result.y[0, :])\n",
    "    lines.append(line)\n",
    "ax.grid()\n",
    "ax.set_xlabel('time (d)')\n",
    "\n",
    "def update(variable: int):\n",
    "    v = model.state_variables[variable]\n",
    "    for result, line in zip(results, lines):\n",
    "        line.set_ydata(result.y[variable, :])\n",
    "    ax.set_ylabel('%s (%s)' % (v.long_name, v.units))\n",
    "    ax.set_title(v.long_path)\n",
    "    ax.relim()\n",
    "    ax.autoscale()\n",
    "    fig.canvas.draw()\n",
    "dropdown = ipywidgets.interactive(update, variable=[(variable.long_path, i) for i, variable in enumerate(model.state_variables)])\n",
    "display(dropdown)\n",
    "fig.show()"
   ]
  },
  {
   "cell_type": "code",
   "execution_count": null,
   "metadata": {},
   "outputs": [],
   "source": []
  }
 ],
 "metadata": {
  "kernelspec": {
   "display_name": "base",
   "language": "python",
   "name": "python3"
  },
  "language_info": {
   "codemirror_mode": {
    "name": "ipython",
    "version": 3
   },
   "file_extension": ".py",
   "mimetype": "text/x-python",
   "name": "python",
   "nbconvert_exporter": "python",
   "pygments_lexer": "ipython3",
   "version": "3.8.15"
  },
  "vscode": {
   "interpreter": {
    "hash": "e4cce46d6be9934fbd27f9ca0432556941ea5bdf741d4f4d64c6cd7f8dfa8fba"
   }
  }
 },
 "nbformat": 4,
 "nbformat_minor": 2
}
